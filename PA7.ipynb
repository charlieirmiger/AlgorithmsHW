{
 "cells": [
  {
   "cell_type": "markdown",
   "metadata": {},
   "source": [
    "Bloom Filters Assignment\n",
    "\n",
    "Charlie Irmiger\n",
    "\n",
    "Tests for membership in O(1) time"
   ]
  },
  {
   "cell_type": "code",
   "execution_count": 6,
   "metadata": {},
   "outputs": [],
   "source": [
    "import numpy as np\n",
    "import random"
   ]
  },
  {
   "cell_type": "code",
   "execution_count": 7,
   "metadata": {},
   "outputs": [],
   "source": [
    "LENGTH = 4096\n",
    "MASK = 0xfff"
   ]
  },
  {
   "cell_type": "code",
   "execution_count": 8,
   "metadata": {},
   "outputs": [],
   "source": [
    "#primes from table: 6869, 5503, 2027, 7793, 9311\n",
    "def hash1(ix):\n",
    "    return (ix*6869**2>>3)&MASK, (((ix+2)*5503**2)>>6)&MASK, (((ix+7)*2027**2)>>9)&MASK, (((ix+3)*7793**2)>>2)&MASK, (((ix+1)*9311**2)>>4)&MASK"
   ]
  },
  {
   "cell_type": "code",
   "execution_count": 9,
   "metadata": {},
   "outputs": [],
   "source": [
    "class Bloom:\n",
    "    def __init__(self, LENGTH, MASK, hash1):\n",
    "        self.length = LENGTH\n",
    "        self.mask = MASK\n",
    "        self.array = np.zeros(LENGTH, dtype=bool)\n",
    "        self.hash1 = hash1\n",
    "    def insert(self, x):\n",
    "        for i in hash1(x):\n",
    "            self.array[i] = True\n",
    "    def lookup(self, x):\n",
    "        for i in hash1(x):\n",
    "            if self.array[i] == False:\n",
    "                return False\n",
    "        return True"
   ]
  },
  {
   "cell_type": "code",
   "execution_count": 10,
   "metadata": {},
   "outputs": [
    {
     "name": "stdout",
     "output_type": "stream",
     "text": [
      "86573 False\n",
      "21052 False\n",
      "72799 False\n",
      "39177 False\n",
      "99385 False\n",
      "68638 False\n",
      "88553 False\n",
      "85069 False\n",
      "41193 False\n",
      "95962 False\n",
      "32765 False\n",
      "73990 False\n",
      "8644 False\n",
      "98567 False\n",
      "86876 False\n",
      "22215 False\n",
      "66166 False\n",
      "11830 False\n",
      "66148 False\n",
      "3969 False\n",
      "7018 False\n",
      "45276 False\n",
      "37519 False\n",
      "10955 False\n",
      "74469 False\n",
      "63015 False\n",
      "9257 False\n",
      "63551 False\n",
      "75479 False\n",
      "51476 False\n"
     ]
    }
   ],
   "source": [
    "mybloom = Bloom(LENGTH, MASK, hash1)\n",
    "for i in random.sample(range(100000), 200):\n",
    "    mybloom.insert(i)\n",
    "for i in range(30):\n",
    "    x= random.randint(0,100000)\n",
    "    print(x, mybloom.lookup(x))\n",
    "    if mybloom.lookup(x) == True:\n",
    "        print(str(x) + \" may be contained\")"
   ]
  },
  {
   "cell_type": "code",
   "execution_count": 11,
   "metadata": {},
   "outputs": [],
   "source": [
    "#False positive calculations:\n",
    "#200 values * 5 hash functions = 1000 bits/4096 bits\n",
    "#p = 1000/4096 = 0.24414\n",
    "#p^5 = 0.000867\n",
    "#30p^5 = 0.026\n",
    "#Results: One of the first runs gave me a false positive, after that it took many runs to find another. "
   ]
  },
  {
   "cell_type": "code",
   "execution_count": null,
   "metadata": {},
   "outputs": [],
   "source": []
  },
  {
   "cell_type": "code",
   "execution_count": null,
   "metadata": {},
   "outputs": [],
   "source": []
  }
 ],
 "metadata": {
  "kernelspec": {
   "display_name": "Python 3",
   "language": "python",
   "name": "python3"
  },
  "language_info": {
   "codemirror_mode": {
    "name": "ipython",
    "version": 3
   },
   "file_extension": ".py",
   "mimetype": "text/x-python",
   "name": "python",
   "nbconvert_exporter": "python",
   "pygments_lexer": "ipython3",
   "version": "3.8.5"
  }
 },
 "nbformat": 4,
 "nbformat_minor": 4
}
