{
 "cells": [
  {
   "cell_type": "code",
   "execution_count": 1,
   "metadata": {},
   "outputs": [],
   "source": [
    "import numpy as np\n",
    "import random"
   ]
  },
  {
   "cell_type": "code",
   "execution_count": 2,
   "metadata": {},
   "outputs": [],
   "source": [
    "LENGTH = 4096\n",
    "MASK = 0xfff"
   ]
  },
  {
   "cell_type": "code",
   "execution_count": 3,
   "metadata": {},
   "outputs": [],
   "source": [
    "#primes from table: 6869, 5503, 2027, 7793, 9311\n",
    "def hash1(ix):\n",
    "    return (ix*6869**2>>3)&MASK, (((ix+2)*5503**2)>>6)&MASK, (((ix+7)*2027**2)>>9)&MASK, (((ix+3)*7793**2)>>2)&MASK, (((ix+1)*9311**2)>>4)&MASK"
   ]
  },
  {
   "cell_type": "code",
   "execution_count": 4,
   "metadata": {},
   "outputs": [],
   "source": [
    "class Bloom:\n",
    "    def __init__(self, LENGTH, MASK, hash1):\n",
    "        self.length = LENGTH\n",
    "        self.mask = MASK\n",
    "        self.array = np.zeros(LENGTH, dtype=bool)\n",
    "        self.hash1 = hash1\n",
    "    def insert(self, x):\n",
    "        for i in hash1(x):\n",
    "            self.array[i] = True\n",
    "    def lookup(self, x):\n",
    "        for i in hash1(x):\n",
    "            if self.array[i] == False:\n",
    "                return False\n",
    "        return True"
   ]
  },
  {
   "cell_type": "code",
   "execution_count": 42,
   "metadata": {},
   "outputs": [
    {
     "name": "stdout",
     "output_type": "stream",
     "text": [
      "8286 False\n",
      "75882 False\n",
      "12201 False\n",
      "12704 False\n",
      "8681 False\n",
      "84301 False\n",
      "36094 False\n",
      "3307 False\n",
      "41711 False\n",
      "66920 False\n",
      "82189 False\n",
      "19767 False\n",
      "70024 False\n",
      "26160 False\n",
      "63405 False\n",
      "42828 False\n",
      "6597 False\n",
      "58315 False\n",
      "18579 False\n",
      "33756 False\n",
      "20139 False\n",
      "46277 False\n",
      "98509 False\n",
      "7616 False\n",
      "83552 False\n",
      "23636 False\n",
      "23143 False\n",
      "77398 False\n",
      "27887 False\n",
      "61954 False\n"
     ]
    }
   ],
   "source": [
    "mybloom = Bloom(LENGTH, MASK, hash1)\n",
    "for i in random.sample(range(100000), 200):\n",
    "    mybloom.insert(i)\n",
    "for i in range(30):\n",
    "    x= random.randint(0,100000)\n",
    "    print(x, mybloom.lookup(x))\n",
    "    if mybloom.lookup(x) == True:\n",
    "        print(str(x) + \" may be contained\")"
   ]
  },
  {
   "cell_type": "code",
   "execution_count": 43,
   "metadata": {},
   "outputs": [],
   "source": [
    "#False positive calculations:\n",
    "#200 values * 5 hash functions = 1000 bits/4096 bits\n",
    "#p = 1000/4096 = 0.24414\n",
    "#p^5 = 0.000867\n",
    "#30p^5 = 0.026\n",
    "#Results: One of the first runs gave me a false positive, after that it took many runs to find another. "
   ]
  },
  {
   "cell_type": "code",
   "execution_count": null,
   "metadata": {},
   "outputs": [],
   "source": []
  }
 ],
 "metadata": {
  "kernelspec": {
   "display_name": "Python 3",
   "language": "python",
   "name": "python3"
  },
  "language_info": {
   "codemirror_mode": {
    "name": "ipython",
    "version": 3
   },
   "file_extension": ".py",
   "mimetype": "text/x-python",
   "name": "python",
   "nbconvert_exporter": "python",
   "pygments_lexer": "ipython3",
   "version": "3.8.3"
  }
 },
 "nbformat": 4,
 "nbformat_minor": 4
}
